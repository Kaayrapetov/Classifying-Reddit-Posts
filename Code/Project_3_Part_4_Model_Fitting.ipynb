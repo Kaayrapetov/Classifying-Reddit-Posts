{
 "cells": [
  {
   "cell_type": "markdown",
   "id": "da8ee865",
   "metadata": {},
   "source": [
    "<img src=\"http://imgur.com/1ZcRyrc.png\" style=\"float: left; margin: 20px; height: 55px\" />\n",
    "\n",
    "# Project 3: NLP Analysis of Reddit Data \n",
    "## Part 4: Model Fitting\n",
    "\n",
    "Katrin Ayrapetov "
   ]
  },
  {
   "cell_type": "code",
   "execution_count": 73,
   "id": "8c6e43c4",
   "metadata": {},
   "outputs": [],
   "source": [
    "import pandas as pd\n",
    "from pmaw import PushshiftAPI\n",
    "import datetime as dt\n",
    "import matplotlib.pyplot as plt\n",
    "from sklearn.model_selection import train_test_split, GridSearchCV\n",
    "from sklearn.pipeline import Pipeline\n",
    "from sklearn.naive_bayes import MultinomialNB\n",
    "from sklearn.linear_model import LogisticRegression\n",
    "from sklearn.linear_model import LogisticRegressionCV\n",
    "from sklearn.metrics import confusion_matrix, plot_confusion_matrix\n",
    "import numpy as np\n",
    "# Import CountVectorizer and TFIDFVectorizer from feature_extraction.text.\n",
    "from sklearn.feature_extraction.text import CountVectorizer, TfidfVectorizer\n",
    "\n",
    "from nltk.corpus import stopwords\n",
    "from nltk.tokenize import RegexpTokenizer\n",
    "from nltk.stem import WordNetLemmatizer\n",
    "\n",
    "from sklearn.feature_extraction.text import CountVectorizer, TfidfVectorizer\n",
    "from sklearn.model_selection import train_test_split, cross_val_score, GridSearchCV\n",
    "from sklearn.linear_model import LogisticRegression\n",
    "from sklearn.neighbors import KNeighborsClassifier\n",
    "from sklearn.ensemble import ExtraTreesClassifier, RandomForestClassifier\n",
    "from sklearn.tree import DecisionTreeClassifier\n",
    "import re\n",
    "from sklearn.pipeline import Pipeline"
   ]
  },
  {
   "cell_type": "code",
   "execution_count": 2,
   "id": "a2451955",
   "metadata": {},
   "outputs": [],
   "source": [
    "df_clean_elem_ms =  pd.read_csv('df_clean_elem_ms.csv')\n",
    "df_clean_elem_hs =  pd.read_csv('df_clean_elem_hs.csv')"
   ]
  },
  {
   "cell_type": "code",
   "execution_count": 3,
   "id": "24d86206",
   "metadata": {},
   "outputs": [
    {
     "data": {
      "text/plain": [
       "(2838, 4)"
      ]
     },
     "execution_count": 3,
     "metadata": {},
     "output_type": "execute_result"
    }
   ],
   "source": [
    "df_clean.shape"
   ]
  },
  {
   "cell_type": "code",
   "execution_count": 3,
   "id": "cf56f329",
   "metadata": {},
   "outputs": [],
   "source": [
    "#Reshuffle the dataframe and reset the index. \n",
    "df_clean_elem_ms = df_clean_elem_ms.sample(frac = 1)\n",
    "df_clean_elem_hs = df_clean_elem_hs.sample(frac = 1)"
   ]
  },
  {
   "cell_type": "code",
   "execution_count": 4,
   "id": "e3fe9b22",
   "metadata": {},
   "outputs": [
    {
     "data": {
      "text/plain": [
       "ElementaryTeachers      2435\n",
       "MiddleSchoolTeacher      735\n",
       "Middleschoolteachers     559\n",
       "Name: subreddit, dtype: int64"
      ]
     },
     "execution_count": 4,
     "metadata": {},
     "output_type": "execute_result"
    }
   ],
   "source": [
    "df_clean_elem_ms.subreddit.value_counts()"
   ]
  },
  {
   "cell_type": "code",
   "execution_count": 5,
   "id": "9ebf723e",
   "metadata": {},
   "outputs": [
    {
     "data": {
      "text/plain": [
       "highschoolteachers    3084\n",
       "ElementaryTeachers    2435\n",
       "Name: subreddit, dtype: int64"
      ]
     },
     "execution_count": 5,
     "metadata": {},
     "output_type": "execute_result"
    }
   ],
   "source": [
    "df_clean_elem_hs.subreddit.value_counts()"
   ]
  },
  {
   "cell_type": "code",
   "execution_count": 6,
   "id": "b6ccef14",
   "metadata": {},
   "outputs": [],
   "source": [
    "#Reset the index \n",
    "df_clean_elem_ms.reset_index(drop=\"True\",inplace=True)\n",
    "df_clean_elem_hs.reset_index(drop=\"True\",inplace=True)"
   ]
  },
  {
   "cell_type": "code",
   "execution_count": 8,
   "id": "661dfe4f",
   "metadata": {},
   "outputs": [],
   "source": [
    "# Binarize the target feature\n",
    "df_clean_elem_ms['subreddit'] = df_clean_elem_ms['subreddit'].map(lambda x: 1 if x == 'ElementaryTeachers' else 0)\n",
    "# 1 : Elementary Teachers \n",
    "# 0 : Middle School Teacher\n"
   ]
  },
  {
   "cell_type": "code",
   "execution_count": 10,
   "id": "ff70ac20",
   "metadata": {},
   "outputs": [],
   "source": [
    "# Binarize the target feature\n",
    "df_clean_elem_hs['subreddit'] = df_clean_elem_hs['subreddit'].map(lambda x: 1 if x == 'ElementaryTeachers' else 0)\n",
    "# 1 : Elementary Teachers \n",
    "# 0 : High School"
   ]
  },
  {
   "cell_type": "code",
   "execution_count": 12,
   "id": "c2ae60ab",
   "metadata": {},
   "outputs": [],
   "source": [
    "#Drop the null values. \n",
    "df_clean_elem_ms.dropna(axis=0, how=\"any\", thresh=None, subset=None, inplace=True)\n",
    "df_clean_elem_hs.dropna(axis=0, how=\"any\", thresh=None, subset=None, inplace=True)\n",
    "#Reset the index \n",
    "df_clean_elem_ms.reset_index(drop=\"True\",inplace=True)\n",
    "df_clean_elem_hs.reset_index(drop=\"True\",inplace=True)"
   ]
  },
  {
   "cell_type": "code",
   "execution_count": 14,
   "id": "c6379c6a",
   "metadata": {},
   "outputs": [
    {
     "data": {
      "text/plain": [
       "subreddit                0\n",
       "body                     0\n",
       "CLEAN_COMMENT            0\n",
       "ADJ_ADV_CLEAN_COMMENT    0\n",
       "dtype: int64"
      ]
     },
     "execution_count": 14,
     "metadata": {},
     "output_type": "execute_result"
    }
   ],
   "source": [
    "df_clean_elem_hs.isnull().sum()"
   ]
  },
  {
   "cell_type": "code",
   "execution_count": 16,
   "id": "0c8dc925",
   "metadata": {},
   "outputs": [],
   "source": [
    "#Create dataframe X that has the clean comments  and y that has the subreddit \n",
    "X_elem_ms = df_clean_elem_ms['CLEAN_COMMENT']\n",
    "y_elem_ms = df_clean_elem_ms['subreddit']\n",
    "\n"
   ]
  },
  {
   "cell_type": "code",
   "execution_count": 20,
   "id": "0fd0147c",
   "metadata": {},
   "outputs": [],
   "source": [
    "#Create dataframe X that has the clean comments  and y that has the subreddit \n",
    "X_elem_hs = df_clean_elem_hs['CLEAN_COMMENT']\n",
    "y_elem_hs = df_clean_elem_hs['subreddit']\n",
    "\n"
   ]
  },
  {
   "cell_type": "code",
   "execution_count": 57,
   "id": "998a1038",
   "metadata": {},
   "outputs": [],
   "source": [
    "#Create dataframe X that has the clean comments  and y that has the subreddit \n",
    "YY_elem_ms=df_clean_elem_ms[\"ADJ_ADV_CLEAN_COMMENT\"]\n",
    "yy_elem_ms = df_clean_elem_ms['subreddit']\n",
    "YY_elem_hs=df_clean_elem_hs[\"ADJ_ADV_CLEAN_COMMENT\"]\n",
    "yy_elem_hs = df_clean_elem_hs['subreddit']"
   ]
  },
  {
   "cell_type": "code",
   "execution_count": 18,
   "id": "e764c7bc",
   "metadata": {},
   "outputs": [],
   "source": [
    "# Split the data into the training and testing sets.\n",
    "X_train_elem_ms, X_test_elem_ms, y_train_elem_ms, y_test_elem_ms = train_test_split(X_elem_ms,\n",
    "                                                    y_elem_ms,\n",
    "                                                    test_size=0.33,\n",
    "                                                    stratify=y_elem_ms,\n",
    "                                                    random_state=42)"
   ]
  },
  {
   "cell_type": "code",
   "execution_count": 21,
   "id": "d8a8536e",
   "metadata": {},
   "outputs": [],
   "source": [
    "# Split the data into the training and testing sets.\n",
    "X_train_elem_hs, X_test_elem_hs, y_train_elem_hs, y_test_elem_hs = train_test_split(X_elem_hs,\n",
    "                                                    y_elem_hs,\n",
    "                                                    test_size=0.33,\n",
    "                                                    stratify=y_elem_hs,\n",
    "                                                    random_state=42)"
   ]
  },
  {
   "cell_type": "code",
   "execution_count": 12,
   "id": "50bcef62",
   "metadata": {},
   "outputs": [],
   "source": [
    "# Split the data into the training and testing sets.\n",
    "YY_train_elem_ms, YY_test_elem_ms, yy_train_elem_ms, yy_test_elem_ms = train_test_split(YY_elem_ms,\n",
    "                                                    yy_elem_ms,\n",
    "                                                    test_size=0.33,\n",
    "                                                    stratify=yy_elem_ms,\n",
    "                                                    random_state=42)"
   ]
  },
  {
   "cell_type": "code",
   "execution_count": 58,
   "id": "8fbdf219",
   "metadata": {},
   "outputs": [],
   "source": [
    "# Split the data into the training and testing sets.\n",
    "YY_train_elem_hs, YY_test_elem_hs, yy_train_elem_hs, yy_test_elem_hs = train_test_split(YY_elem_hs,\n",
    "                                                    yy_elem_hs,\n",
    "                                                    test_size=0.33,\n",
    "                                                    stratify=yy_elem_hs,\n",
    "                                                    random_state=42)"
   ]
  },
  {
   "cell_type": "markdown",
   "id": "14612e43",
   "metadata": {},
   "source": [
    "<font style=\"font-size: 2rem; color: blue\">\n",
    "Use Multinomial Naive Bayes on Elementary School and Middle School Data\n",
    "    <br> - The training set accuracy is : 0.89 <br>\n",
    "    <br> - The testing set accuracy 0.73 <br>\n",
    "   \n",
    "</font>"
   ]
  },
  {
   "cell_type": "code",
   "execution_count": 22,
   "id": "fc9460a9",
   "metadata": {},
   "outputs": [],
   "source": [
    "# Let's set a pipeline up with two stages:\n",
    "# 1. CountVectorizer (transformer)\n",
    "# 2. Multinomial Naive Bayes (estimator)\n",
    "\n",
    "pipe = Pipeline([\n",
    "    ('cvec', CountVectorizer()),\n",
    "    ('mnb', MultinomialNB())\n",
    "])"
   ]
  },
  {
   "cell_type": "code",
   "execution_count": 25,
   "id": "0ffcf9b7",
   "metadata": {},
   "outputs": [],
   "source": [
    "# Search over the following values of hyperparameters:\n",
    "# Maximum number of features fit: 2000, 3000, 4000, 5000\n",
    "# Minimum number of documents needed to include token: 2, 3\n",
    "# Maximum number of documents needed to include token: 90%, 95%\n",
    "# Check (individual tokens) and also check (individual tokens and 2-grams).\n",
    "\n",
    "pipe_params = {\n",
    "    'cvec__max_features': [1000,2000,3000,4000,5000,5500],\n",
    "    'cvec__max_df': [0.70,0.75,0.8,0.85,.9, .95],\n",
    "    'cvec__ngram_range': [(1,1), (1,2),(1,3)]\n",
    "}"
   ]
  },
  {
   "cell_type": "code",
   "execution_count": 26,
   "id": "f7357c4e",
   "metadata": {},
   "outputs": [],
   "source": [
    "# Instantiate GridSearchCV.\n",
    "\n",
    "gs = GridSearchCV(pipe, # what object are we optimizing?\n",
    "                  pipe_params, # what parameters values are we searching?\n",
    "                 cv = 3) # 3-fold cross-validation."
   ]
  },
  {
   "cell_type": "code",
   "execution_count": 110,
   "id": "489ecab5",
   "metadata": {},
   "outputs": [
    {
     "data": {
      "text/plain": [
       "{'cvec__max_df': 0.7, 'cvec__max_features': 5000, 'cvec__ngram_range': (1, 2)}"
      ]
     },
     "execution_count": 110,
     "metadata": {},
     "output_type": "execute_result"
    }
   ],
   "source": [
    "gs.best_params_"
   ]
  },
  {
   "cell_type": "code",
   "execution_count": 27,
   "id": "0416d00e",
   "metadata": {},
   "outputs": [
    {
     "data": {
      "text/plain": [
       "GridSearchCV(cv=3,\n",
       "             estimator=Pipeline(steps=[('cvec', CountVectorizer()),\n",
       "                                       ('mnb', MultinomialNB())]),\n",
       "             param_grid={'cvec__max_df': [0.7, 0.75, 0.8, 0.85, 0.9, 0.95],\n",
       "                         'cvec__max_features': [1000, 2000, 3000, 4000, 5000,\n",
       "                                                5500],\n",
       "                         'cvec__ngram_range': [(1, 1), (1, 2), (1, 3)]})"
      ]
     },
     "execution_count": 27,
     "metadata": {},
     "output_type": "execute_result"
    }
   ],
   "source": [
    "# Fit GridSearch to training data.\n",
    "\n",
    "gs.fit(X_train_elem_ms, y_train_elem_ms)"
   ]
  },
  {
   "cell_type": "code",
   "execution_count": 28,
   "id": "86085ccc",
   "metadata": {},
   "outputs": [
    {
     "data": {
      "text/plain": [
       "(0.890738813735692, 0.7278481012658228)"
      ]
     },
     "execution_count": 28,
     "metadata": {},
     "output_type": "execute_result"
    }
   ],
   "source": [
    "# Score model on training set and on test set.\n",
    "\n",
    "gs.score(X_train_elem_ms,y_train_elem_ms),gs.score(X_test_elem_ms,y_test_elem_ms)"
   ]
  },
  {
   "cell_type": "markdown",
   "id": "8dee8c1e",
   "metadata": {},
   "source": [
    "<font style=\"font-size: 2rem; color: blue\">\n",
    "Use Multinomial Naive Bayes on Elementary School and High School Data\n",
    "    <br> - The training set accuracy is : 0.90 <br>\n",
    "    <br> - The testing set accuracy 0.80 <br>\n",
    "   \n",
    "</font>"
   ]
  },
  {
   "cell_type": "code",
   "execution_count": 32,
   "id": "3efbd180",
   "metadata": {},
   "outputs": [],
   "source": [
    "# Instantiate GridSearchCV.\n",
    "\n",
    "gs2 = GridSearchCV(pipe, # what object are we optimizing?\n",
    "                  pipe_params, # what parameters values are we searching?\n",
    "                 cv = 3) # 3-fold cross-validation."
   ]
  },
  {
   "cell_type": "code",
   "execution_count": 33,
   "id": "28578676",
   "metadata": {},
   "outputs": [
    {
     "data": {
      "text/plain": [
       "GridSearchCV(cv=3,\n",
       "             estimator=Pipeline(steps=[('cvec', CountVectorizer()),\n",
       "                                       ('mnb', MultinomialNB())]),\n",
       "             param_grid={'cvec__max_df': [0.7, 0.75, 0.8, 0.85, 0.9, 0.95],\n",
       "                         'cvec__max_features': [1000, 2000, 3000, 4000, 5000,\n",
       "                                                5500],\n",
       "                         'cvec__ngram_range': [(1, 1), (1, 2), (1, 3)]})"
      ]
     },
     "execution_count": 33,
     "metadata": {},
     "output_type": "execute_result"
    }
   ],
   "source": [
    "gs2.fit(X_train_elem_hs, y_train_elem_hs)"
   ]
  },
  {
   "cell_type": "code",
   "execution_count": 34,
   "id": "e1c826a4",
   "metadata": {},
   "outputs": [
    {
     "data": {
      "text/plain": [
       "(0.8960197469916692, 0.7952410770194114)"
      ]
     },
     "execution_count": 34,
     "metadata": {},
     "output_type": "execute_result"
    }
   ],
   "source": [
    "gs2.score(X_train_elem_hs,y_train_elem_hs),gs.score(X_test_elem_hs,y_test_elem_hs)"
   ]
  },
  {
   "cell_type": "markdown",
   "id": "9fcc66bd",
   "metadata": {},
   "source": [
    "<font style=\"font-size: 2rem; color: blue\">\n",
    "Use Logistic Regression on Elementary School and Middle School Data\n",
    "    <br> - The training set accuracy is : 0.96 <br>\n",
    "    <br> - The testing set accuracy is: 0.71   <br>\n",
    "   \n",
    "</font>"
   ]
  },
  {
   "cell_type": "code",
   "execution_count": 35,
   "id": "b1abb6ab",
   "metadata": {},
   "outputs": [],
   "source": [
    "pipeL = Pipeline([\n",
    "    ('cvec', CountVectorizer()),\n",
    "    ('model', LogisticRegression())\n",
    "])\n",
    "\n",
    "\n",
    "\n",
    "\n",
    "paramsL = {  \n",
    "    'cvec__max_df': [0.70,0.75,0.8,0.85,.9, .95],\n",
    "    'cvec__max_features': [1000,2000,3000,4000,5000,5500],\n",
    "    'cvec__ngram_range': [(1,1), (1,2),(1,3)],\n",
    "    'model__C' : np.linspace(0.0001, 1, 20)\n",
    "}\n",
    "\n"
   ]
  },
  {
   "cell_type": "code",
   "execution_count": 36,
   "id": "ad7742b7",
   "metadata": {},
   "outputs": [
    {
     "data": {
      "text/plain": [
       "{'cvec__max_df': 0.7,\n",
       " 'cvec__max_features': 5500,\n",
       " 'cvec__ngram_range': (1, 2),\n",
       " 'model__C': 0.7368684210526316}"
      ]
     },
     "execution_count": 36,
     "metadata": {},
     "output_type": "execute_result"
    }
   ],
   "source": [
    "gsL = GridSearchCV(pipeL,paramsL,cv = 5)\n",
    "gsL.fit(X_train_elem_ms,y_train_elem_ms)\n",
    "\n",
    "gsL.best_params_\n"
   ]
  },
  {
   "cell_type": "code",
   "execution_count": 37,
   "id": "716818a8",
   "metadata": {},
   "outputs": [
    {
     "data": {
      "text/plain": [
       "0.9625390218522373"
      ]
     },
     "execution_count": 37,
     "metadata": {},
     "output_type": "execute_result"
    }
   ],
   "source": [
    "gsL.score(X_train_elem_ms, y_train_elem_ms)"
   ]
  },
  {
   "cell_type": "code",
   "execution_count": 38,
   "id": "afbf28bd",
   "metadata": {},
   "outputs": [
    {
     "data": {
      "text/plain": [
       "0.709915611814346"
      ]
     },
     "execution_count": 38,
     "metadata": {},
     "output_type": "execute_result"
    }
   ],
   "source": [
    "gsL.score(X_test_elem_ms, y_test_elem_ms)"
   ]
  },
  {
   "cell_type": "markdown",
   "id": "b55c7bc3",
   "metadata": {},
   "source": [
    "<font style=\"font-size: 2rem; color: blue\">\n",
    "Use Logistic Regression on Elementary School and High School Data\n",
    "    <br> - The training set accuracy is : 99%  <br>\n",
    "    <br> - The testing set accuracy is: 83%   <br>\n",
    "   \n",
    "</font>"
   ]
  },
  {
   "cell_type": "code",
   "execution_count": 44,
   "id": "339c2ef7",
   "metadata": {},
   "outputs": [],
   "source": [
    "pipeL2 = Pipeline([\n",
    "    ('cvec', CountVectorizer()),\n",
    "    ('model', LogisticRegression())\n",
    "])\n",
    "\n",
    "\n",
    "\n",
    "\n",
    "paramsL2 = {  \n",
    "    'cvec__max_df': [0.8,0.85,.9, .95],\n",
    "    'cvec__ngram_range': [(1,1), (1,2),(1,3)],\n",
    "    'model__C' : np.linspace(0.01, 1, 5)\n",
    "}\n",
    "\n"
   ]
  },
  {
   "cell_type": "code",
   "execution_count": 45,
   "id": "70c21a29",
   "metadata": {},
   "outputs": [],
   "source": [
    "gsL2 = GridSearchCV(pipeL2,paramsL2,cv = 5)\n",
    "\n"
   ]
  },
  {
   "cell_type": "code",
   "execution_count": 46,
   "id": "6f215939",
   "metadata": {},
   "outputs": [
    {
     "data": {
      "text/plain": [
       "GridSearchCV(cv=5,\n",
       "             estimator=Pipeline(steps=[('cvec', CountVectorizer()),\n",
       "                                       ('model', LogisticRegression())]),\n",
       "             param_grid={'cvec__max_df': [0.8, 0.85, 0.9, 0.95],\n",
       "                         'cvec__ngram_range': [(1, 1), (1, 2), (1, 3)],\n",
       "                         'model__C': array([0.01  , 0.2575, 0.505 , 0.7525, 1.    ])})"
      ]
     },
     "execution_count": 46,
     "metadata": {},
     "output_type": "execute_result"
    }
   ],
   "source": [
    "gsL2.fit(X_train_elem_hs,y_train_elem_hs)"
   ]
  },
  {
   "cell_type": "code",
   "execution_count": 49,
   "id": "68012eaf",
   "metadata": {},
   "outputs": [
    {
     "data": {
      "text/plain": [
       "{'cvec__max_df': 0.8, 'cvec__ngram_range': (1, 2), 'model__C': 0.2575}"
      ]
     },
     "execution_count": 49,
     "metadata": {},
     "output_type": "execute_result"
    }
   ],
   "source": [
    "gsL2.best_params_"
   ]
  },
  {
   "cell_type": "code",
   "execution_count": 47,
   "id": "4a422d6f",
   "metadata": {},
   "outputs": [
    {
     "data": {
      "text/plain": [
       "0.994137611848195"
      ]
     },
     "execution_count": 47,
     "metadata": {},
     "output_type": "execute_result"
    }
   ],
   "source": [
    "gsL2.score(X_train_elem_hs, y_train_elem_hs)"
   ]
  },
  {
   "cell_type": "code",
   "execution_count": 48,
   "id": "543e49fd",
   "metadata": {},
   "outputs": [
    {
     "data": {
      "text/plain": [
       "0.8265497808390733"
      ]
     },
     "execution_count": 48,
     "metadata": {},
     "output_type": "execute_result"
    }
   ],
   "source": [
    "gsL2.score(X_test_elem_hs, y_test_elem_hs)"
   ]
  },
  {
   "cell_type": "code",
   "execution_count": 77,
   "id": "3b245744",
   "metadata": {},
   "outputs": [
    {
     "data": {
      "text/plain": [
       "Pipeline(steps=[('cvec', CountVectorizer(max_df=0.8, ngram_range=(1, 2))),\n",
       "                ('model', LogisticRegression(C=0.2575))])"
      ]
     },
     "execution_count": 77,
     "metadata": {},
     "output_type": "execute_result"
    }
   ],
   "source": [
    "gsL2.best_estimator_"
   ]
  },
  {
   "cell_type": "code",
   "execution_count": 56,
   "id": "d86fa01f",
   "metadata": {},
   "outputs": [
    {
     "data": {
      "image/png": "[encoded data removed]",
      "text/plain": [
       "<Figure size 432x288 with 2 Axes>"
      ]
     },
     "metadata": {
      "needs_background": "light"
     },
     "output_type": "display_data"
    }
   ],
   "source": [
    "# Get predictions\n",
    "preds=gsL2.predict(X_test_elem_hs)\n",
    "\n",
    "# Save confusion matrix values\n",
    "#.ravel flattens out the confusion matrix \n",
    "tn,fp,fn,tp = confusion_matrix(y_test_elem_hs,preds).ravel()\n",
    "# View confusion matrix\n",
    "\n",
    "plot_confusion_matrix(gsL2, X_test_elem_hs, y_test_elem_hs, cmap='Blues', display_labels = ['Elementary School', 'High School']);\n"
   ]
  },
  {
   "cell_type": "markdown",
   "id": "053d65cb",
   "metadata": {},
   "source": [
    "<font style=\"font-size: 2rem; color: blue\">\n",
    "Use the model to predict awhich set a block of text belongs to: \n",
    "    <br> - The training set accuracy is :  <br>\n",
    "    <br> - The testing set accuracy is:    <br>\n",
    "   \n",
    "</font>"
   ]
  },
  {
   "cell_type": "code",
   "execution_count": null,
   "id": "df17e17e",
   "metadata": {},
   "outputs": [],
   "source": []
  },
  {
   "cell_type": "code",
   "execution_count": null,
   "id": "65935a21",
   "metadata": {},
   "outputs": [],
   "source": []
  },
  {
   "cell_type": "code",
   "execution_count": null,
   "id": "88d253ce",
   "metadata": {},
   "outputs": [],
   "source": []
  },
  {
   "cell_type": "code",
   "execution_count": null,
   "id": "265d02e0",
   "metadata": {},
   "outputs": [],
   "source": []
  },
  {
   "cell_type": "markdown",
   "id": "6b857cf6",
   "metadata": {},
   "source": [
    "<font style=\"font-size: 2rem; color: blue\">\n",
    "Use Logistic Regression on Elementary School and High School Data of Adjectives \n",
    "    <br> - The training set accuracy is :  <br>\n",
    "    <br> - The testing set accuracy is:    <br>\n",
    "   \n",
    "</font>"
   ]
  },
  {
   "cell_type": "code",
   "execution_count": 112,
   "id": "a8043ba7",
   "metadata": {},
   "outputs": [],
   "source": [
    "# Split the data into the training and testing sets.\n",
    "YY_train_elem_hs, YY_test_elem_hs, yy_train_elem_hs, yy_test_elem_hs = train_test_split(YY_elem_hs,\n",
    "                                                    yy_elem_hs,\n",
    "                                                    test_size=0.33,\n",
    "                                                    stratify=yy_elem_hs,\n",
    "                                                    random_state=42)"
   ]
  },
  {
   "cell_type": "code",
   "execution_count": 62,
   "id": "73ee6d18",
   "metadata": {},
   "outputs": [],
   "source": [
    "pipeL3 = Pipeline([\n",
    "    ('cvec', CountVectorizer()),\n",
    "    ('model', LogisticRegression())\n",
    "])\n",
    "\n",
    "\n",
    "\n",
    "\n",
    "paramsL3 = {  \n",
    "    'cvec__max_df': [0.8,0.85,.9, .95],\n",
    "    'cvec__ngram_range': [(1,1), (1,2),(1,3)],\n",
    "    'model__C' : np.linspace(0.01, 1, 5)\n",
    "}\n",
    "\n"
   ]
  },
  {
   "cell_type": "code",
   "execution_count": 63,
   "id": "e79a07ce",
   "metadata": {},
   "outputs": [],
   "source": [
    "gsL3 = GridSearchCV(pipeL3,paramsL3,cv = 5)"
   ]
  },
  {
   "cell_type": "code",
   "execution_count": 64,
   "id": "4c0f3d27",
   "metadata": {},
   "outputs": [
    {
     "data": {
      "text/plain": [
       "GridSearchCV(cv=5,\n",
       "             estimator=Pipeline(steps=[('cvec', CountVectorizer()),\n",
       "                                       ('model', LogisticRegression())]),\n",
       "             param_grid={'cvec__max_df': [0.8, 0.85, 0.9, 0.95],\n",
       "                         'cvec__ngram_range': [(1, 1), (1, 2), (1, 3)],\n",
       "                         'model__C': array([0.01  , 0.2575, 0.505 , 0.7525, 1.    ])})"
      ]
     },
     "execution_count": 64,
     "metadata": {},
     "output_type": "execute_result"
    }
   ],
   "source": [
    "gsL3.fit(YY_train_elem_hs,yy_train_elem_hs)"
   ]
  },
  {
   "cell_type": "code",
   "execution_count": 111,
   "id": "33f591ab",
   "metadata": {},
   "outputs": [
    {
     "data": {
      "text/plain": [
       "{'cvec__max_df': 0.8, 'cvec__ngram_range': (1, 3), 'model__C': 0.2575}"
      ]
     },
     "execution_count": 111,
     "metadata": {},
     "output_type": "execute_result"
    }
   ],
   "source": [
    "gsL3.best_params_"
   ]
  },
  {
   "cell_type": "code",
   "execution_count": 65,
   "id": "a0683dc6",
   "metadata": {},
   "outputs": [
    {
     "data": {
      "text/plain": [
       "0.9407590249922864"
      ]
     },
     "execution_count": 65,
     "metadata": {},
     "output_type": "execute_result"
    }
   ],
   "source": [
    "gsL3.score(YY_train_elem_hs, yy_train_elem_hs)"
   ]
  },
  {
   "cell_type": "code",
   "execution_count": 66,
   "id": "db577519",
   "metadata": {},
   "outputs": [
    {
     "data": {
      "text/plain": [
       "0.7332498434564809"
      ]
     },
     "execution_count": 66,
     "metadata": {},
     "output_type": "execute_result"
    }
   ],
   "source": [
    "gsL3.score(YY_test_elem_hs, yy_test_elem_hs)"
   ]
  },
  {
   "cell_type": "code",
   "execution_count": null,
   "id": "a770a411",
   "metadata": {},
   "outputs": [],
   "source": []
  }
 ],
 "metadata": {
  "kernelspec": {
   "display_name": "Python 3 (ipykernel)",
   "language": "python",
   "name": "python3"
  },
  "language_info": {
   "codemirror_mode": {
    "name": "ipython",
    "version": 3
   },
   "file_extension": ".py",
   "mimetype": "text/x-python",
   "name": "python",
   "nbconvert_exporter": "python",
   "pygments_lexer": "ipython3",
   "version": "3.9.11"
  }
 },
 "nbformat": 4,
 "nbformat_minor": 5
}
