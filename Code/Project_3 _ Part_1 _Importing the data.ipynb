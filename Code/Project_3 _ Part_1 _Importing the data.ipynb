{
 "cells": [
  {
   "cell_type": "markdown",
   "id": "59447010",
   "metadata": {},
   "source": [
    "<img src=\"http://imgur.com/1ZcRyrc.png\" style=\"float: left; margin: 20px; height: 55px\" />\n",
    "\n",
    "# Project 3: NLP Analysis of Reddit Data \n",
    "## Part 1: Importing Data from Reddit\n",
    "\n",
    "Katrin Ayrapetov "
   ]
  },
  {
   "cell_type": "code",
   "execution_count": 4,
   "id": "c5cfbc04",
   "metadata": {},
   "outputs": [],
   "source": [
    "#pip install pmaw \n",
    "import pandas as pd\n",
    "from pmaw import PushshiftAPI\n",
    "import datetime as dt\n",
    "import matplotlib.pyplot as plt\n",
    "import re\n"
   ]
  },
  {
   "cell_type": "code",
   "execution_count": 6,
   "id": "f174a20a",
   "metadata": {},
   "outputs": [],
   "source": [
    "#Determine the time frame for the Reddit posts\n",
    "before = int(dt.datetime(2022,1,1,20,0).timestamp())\n",
    "after = int(dt.datetime(2010,1,1,20,0).timestamp())\n",
    "# Limit the number of posts \n",
    "limit1= 1000\n",
    "limit2 = 4000\n",
    "#limit2\n",
    "#limit3\n",
    "#Idendity the two subreddits \n",
    "subreddit_elem =\"ElementaryTeachers\"\n",
    "subreddit_ms =\"MiddleSchoolTeacher\"\n",
    "subreddit_hs = \"highschoolteachers\"\n",
    "subreddit_teach = \"Teachers\"\n",
    "\n",
    "#Instatiate an API PushShift \n",
    "api_test = PushshiftAPI()\n",
    "h = \"high school\"\n",
    "m = \"middle school\"\n",
    "e = \"elementary school\""
   ]
  },
  {
   "cell_type": "markdown",
   "id": "6a96552a",
   "metadata": {},
   "source": [
    "<font style=\"font-size: 2rem; color: blue\">\n",
    "\n",
    "Obtain data from r/ElementaryTeachers Comments \n",
    "\n",
    "</font>"
   ]
  },
  {
   "cell_type": "code",
   "execution_count": 7,
   "id": "89d64525",
   "metadata": {},
   "outputs": [
    {
     "name": "stderr",
     "output_type": "stream",
     "text": [
      "Not all PushShift shards are active. Query results may be incomplete.\n",
      "Not all PushShift shards are active. Query results may be incomplete.\n",
      "Not all PushShift shards are active. Query results may be incomplete.\n"
     ]
    }
   ],
   "source": [
    "#Import the comments for subreddit r/ElementaryTeachers\n",
    "comments_elem = api_test.search_comments(subreddit=subreddit_elem, before=before, after=after)\n",
    "\n"
   ]
  },
  {
   "cell_type": "code",
   "execution_count": 8,
   "id": "8049fa8f",
   "metadata": {},
   "outputs": [],
   "source": [
    "#Turn comments for r/ElementaryTeachers into a dataframe. \n",
    "comments_elem_df = pd.DataFrame(comments_elem);\n"
   ]
  },
  {
   "cell_type": "code",
   "execution_count": 9,
   "id": "47ba837f",
   "metadata": {},
   "outputs": [
    {
     "data": {
      "text/plain": [
       "(1811, 57)"
      ]
     },
     "execution_count": 9,
     "metadata": {},
     "output_type": "execute_result"
    }
   ],
   "source": [
    "comments_elem_df.shape"
   ]
  },
  {
   "cell_type": "code",
   "execution_count": 6,
   "id": "f576d3d2",
   "metadata": {},
   "outputs": [
    {
     "data": {
      "text/plain": [
       "Index(['author', 'author_flair_css_class', 'author_flair_text', 'body',\n",
       "       'controversiality', 'created_utc', 'distinguished', 'gilded', 'id',\n",
       "       'link_id', 'nest_level', 'parent_id', 'reply_delay', 'retrieved_on',\n",
       "       'score', 'score_hidden', 'subreddit', 'subreddit_id',\n",
       "       'author_created_utc', 'author_flair_background_color',\n",
       "       'author_flair_richtext', 'author_flair_template_id',\n",
       "       'author_flair_text_color', 'author_flair_type', 'author_fullname',\n",
       "       'author_patreon_flair', 'can_gild', 'collapsed', 'collapsed_reason',\n",
       "       'gildings', 'is_submitter', 'no_follow', 'permalink', 'send_replies',\n",
       "       'stickied', 'subreddit_name_prefixed', 'subreddit_type', 'edited',\n",
       "       'all_awardings', 'associated_award', 'author_premium', 'awarders',\n",
       "       'collapsed_because_crowd_control', 'locked', 'total_awards_received',\n",
       "       'treatment_tags', 'updated_utc', 'user_removed', 'comment_type',\n",
       "       'top_awarded_type', 'author_cakeday', 'archived', 'body_sha1',\n",
       "       'collapsed_reason_code', 'retrieved_utc', 'unrepliable_reason',\n",
       "       'steward_reports'],\n",
       "      dtype='object')"
      ]
     },
     "execution_count": 6,
     "metadata": {},
     "output_type": "execute_result"
    }
   ],
   "source": [
    "comments_elem_df.columns"
   ]
  },
  {
   "cell_type": "code",
   "execution_count": 7,
   "id": "dac70386",
   "metadata": {},
   "outputs": [],
   "source": [
    "#Get rid of uncessary columns \n",
    "comments_elem_df.drop(columns=['author', 'author_flair_css_class', 'author_flair_text', \n",
    "       'controversiality', 'created_utc', 'distinguished', 'gilded', 'id',\n",
    "       'link_id', 'nest_level', 'parent_id', 'reply_delay', 'retrieved_on',\n",
    "       'score', 'score_hidden',  'subreddit_id',\n",
    "       'author_created_utc', 'author_flair_background_color',\n",
    "       'author_flair_richtext', 'author_flair_template_id',\n",
    "       'author_flair_text_color', 'author_flair_type', 'author_fullname',\n",
    "       'author_patreon_flair', 'can_gild', 'collapsed', 'collapsed_reason',\n",
    "       'gildings', 'is_submitter', 'no_follow', 'permalink', 'send_replies',\n",
    "       'stickied', 'subreddit_name_prefixed', 'subreddit_type', 'edited',\n",
    "       'all_awardings', 'associated_award', 'author_premium', 'awarders',\n",
    "       'collapsed_because_crowd_control', 'locked', 'total_awards_received',\n",
    "       'treatment_tags', 'updated_utc', 'user_removed', 'comment_type',\n",
    "       'top_awarded_type', 'author_cakeday', 'archived', 'body_sha1',\n",
    "       'collapsed_reason_code', 'retrieved_utc', 'unrepliable_reason',\n",
    "       'steward_reports'],inplace = True )\n"
   ]
  },
  {
   "cell_type": "code",
   "execution_count": 8,
   "id": "5caf2e86",
   "metadata": {},
   "outputs": [],
   "source": [
    "#Re-arrange the columns \n",
    "comments_elem_df = comments_elem_df.reindex(columns=[\"subreddit\",\"body\"])\n",
    "\n"
   ]
  },
  {
   "cell_type": "code",
   "execution_count": 58,
   "id": "58e280c4",
   "metadata": {},
   "outputs": [
    {
     "data": {
      "text/plain": [
       "(1814, 2)"
      ]
     },
     "execution_count": 58,
     "metadata": {},
     "output_type": "execute_result"
    }
   ],
   "source": [
    "comments_elem_df.shape"
   ]
  },
  {
   "cell_type": "code",
   "execution_count": 57,
   "id": "d925009f",
   "metadata": {},
   "outputs": [],
   "source": [
    "# Export as an Excel File \n",
    "comments_elem_df.to_csv('comments_elem_df.csv', header=True, index=False)"
   ]
  },
  {
   "cell_type": "markdown",
   "id": "ff883aa7",
   "metadata": {},
   "source": [
    "<font style=\"font-size: 2rem; color: blue\">\n",
    "\n",
    "Obtain data from r/ElementaryTeachers submissions\n",
    "\n",
    "\n",
    "</font>"
   ]
  },
  {
   "cell_type": "code",
   "execution_count": 10,
   "id": "88dee195",
   "metadata": {},
   "outputs": [
    {
     "name": "stderr",
     "output_type": "stream",
     "text": [
      "Not all PushShift shards are active. Query results may be incomplete.\n",
      "Not all PushShift shards are active. Query results may be incomplete.\n"
     ]
    }
   ],
   "source": [
    "#Import the submissions for subreddit r/ElementaryTeachers\n",
    "submissions_elem = api_test.search_submissions(subreddit=subreddit_elem, before=before, after=after)\n"
   ]
  },
  {
   "cell_type": "code",
   "execution_count": 12,
   "id": "496a03ab",
   "metadata": {},
   "outputs": [],
   "source": [
    "#Turn submissions for r/ElementaryTeachers into a dataframe. \n",
    "submissions_elem_df = pd.DataFrame(submissions_elem)\n"
   ]
  },
  {
   "cell_type": "code",
   "execution_count": 13,
   "id": "55dfe635",
   "metadata": {},
   "outputs": [
    {
     "data": {
      "text/plain": [
       "(0, 0)"
      ]
     },
     "execution_count": 13,
     "metadata": {},
     "output_type": "execute_result"
    }
   ],
   "source": [
    "submissions_elem_df.shape"
   ]
  },
  {
   "cell_type": "code",
   "execution_count": 12,
   "id": "c6088389",
   "metadata": {},
   "outputs": [],
   "source": [
    "#Drop unnecessary columns \n",
    "submissions_elem_df.drop(columns=['author', 'author_flair_css_class', 'author_flair_text', 'created_utc',\n",
    "       'domain', 'full_link', 'gilded', 'id', 'is_self', 'media_embed',\n",
    "       'num_comments', 'over_18', 'permalink', 'retrieved_on', 'score',\n",
    "       'secure_media_embed', 'selftext', 'stickied', \n",
    "       'subreddit_id', 'thumbnail',  'url', 'brand_safe',\n",
    "       'can_mod_post', 'contest_mode', 'is_crosspostable',\n",
    "       'is_reddit_media_domain', 'is_video', 'locked', 'media',\n",
    "       'num_crossposts', 'pinned', 'post_hint', 'preview', 'secure_media',\n",
    "       'spoiler', 'subreddit_type', 'thumbnail_height', 'thumbnail_width',\n",
    "       'author_flair_richtext', 'author_flair_type', 'author_fullname',\n",
    "       'author_patreon_flair', 'gildings', 'is_meta', 'is_original_content',\n",
    "       'is_robot_indexable', 'link_flair_background_color',\n",
    "       'link_flair_richtext', 'link_flair_text_color', 'link_flair_type',\n",
    "       'media_only', 'no_follow', 'send_replies', 'subreddit_subscribers',\n",
    "       'rte_mode', 'all_awardings', 'allow_live_comments',\n",
    "       'total_awards_received', 'updated_utc', 'link_flair_template_id',\n",
    "       'link_flair_text', 'author_flair_background_color',\n",
    "       'author_flair_template_id', 'author_flair_text_color', 'author_premium',\n",
    "       'awarders', 'treatment_tags', 'upvote_ratio', 'removed_by_category',\n",
    "       'crosspost_parent', 'crosspost_parent_list', 'steward_reports',\n",
    "       'media_metadata', 'author_is_blocked', 'is_created_from_ads_ui',\n",
    "       'parent_whitelist_status', 'pwls', 'url_overridden_by_dest',\n",
    "       'whitelist_status', 'wls', 'is_gallery', 'gallery_data', 'edited',\n",
    "       'poll_data'],inplace = True )\n"
   ]
  },
  {
   "cell_type": "code",
   "execution_count": 13,
   "id": "62a221d2",
   "metadata": {},
   "outputs": [],
   "source": [
    "#Rename columns \n",
    "submissions_elem_df.rename(columns = {\"title\":\"body\"},inplace = True)\n"
   ]
  },
  {
   "cell_type": "code",
   "execution_count": 16,
   "id": "27f207ec",
   "metadata": {},
   "outputs": [
    {
     "data": {
      "text/html": [
       "<div>\n",
       "<style scoped>\n",
       "    .dataframe tbody tr th:only-of-type {\n",
       "        vertical-align: middle;\n",
       "    }\n",
       "\n",
       "    .dataframe tbody tr th {\n",
       "        vertical-align: top;\n",
       "    }\n",
       "\n",
       "    .dataframe thead th {\n",
       "        text-align: right;\n",
       "    }\n",
       "</style>\n",
       "<table border=\"1\" class=\"dataframe\">\n",
       "  <thead>\n",
       "    <tr style=\"text-align: right;\">\n",
       "      <th></th>\n",
       "      <th>subreddit</th>\n",
       "      <th>body</th>\n",
       "    </tr>\n",
       "  </thead>\n",
       "  <tbody>\n",
       "    <tr>\n",
       "      <th>0</th>\n",
       "      <td>ElementaryTeachers</td>\n",
       "      <td>Children's books featuring gay (same sex) fami...</td>\n",
       "    </tr>\n",
       "    <tr>\n",
       "      <th>1</th>\n",
       "      <td>ElementaryTeachers</td>\n",
       "      <td>Question: best part of teaching?</td>\n",
       "    </tr>\n",
       "    <tr>\n",
       "      <th>2</th>\n",
       "      <td>ElementaryTeachers</td>\n",
       "      <td>Adding and Subtracting Decimals</td>\n",
       "    </tr>\n",
       "    <tr>\n",
       "      <th>3</th>\n",
       "      <td>ElementaryTeachers</td>\n",
       "      <td>University student training to be an elementar...</td>\n",
       "    </tr>\n",
       "    <tr>\n",
       "      <th>4</th>\n",
       "      <td>ElementaryTeachers</td>\n",
       "      <td>Decimal Review for Elementary Level</td>\n",
       "    </tr>\n",
       "  </tbody>\n",
       "</table>\n",
       "</div>"
      ],
      "text/plain": [
       "            subreddit                                               body\n",
       "0  ElementaryTeachers  Children's books featuring gay (same sex) fami...\n",
       "1  ElementaryTeachers                   Question: best part of teaching?\n",
       "2  ElementaryTeachers                    Adding and Subtracting Decimals\n",
       "3  ElementaryTeachers  University student training to be an elementar...\n",
       "4  ElementaryTeachers                Decimal Review for Elementary Level"
      ]
     },
     "execution_count": 16,
     "metadata": {},
     "output_type": "execute_result"
    }
   ],
   "source": [
    "submissions_elem_df.head()"
   ]
  },
  {
   "cell_type": "code",
   "execution_count": 17,
   "id": "07b2bdf3",
   "metadata": {},
   "outputs": [],
   "source": [
    "#Export as an Excel File \n",
    "submissions_elem_df.to_csv('submissions_elem_df.csv', header=True, index=False)"
   ]
  },
  {
   "cell_type": "markdown",
   "id": "41590f18",
   "metadata": {},
   "source": [
    "<font style=\"font-size: 2rem; color: blue\">\n",
    "Obtain data from r/Teachers  comments  related to high school education.  \n",
    "\n",
    "\n",
    "</font>"
   ]
  },
  {
   "cell_type": "code",
   "execution_count": 70,
   "id": "fd5f88f4",
   "metadata": {},
   "outputs": [
    {
     "name": "stderr",
     "output_type": "stream",
     "text": [
      "Not all PushShift shards are active. Query results may be incomplete.\n",
      "Not all PushShift shards are active. Query results may be incomplete.\n",
      "Not all PushShift shards are active. Query results may be incomplete.\n",
      "Not all PushShift shards are active. Query results may be incomplete.\n",
      "Not all PushShift shards are active. Query results may be incomplete.\n"
     ]
    }
   ],
   "source": [
    "#Import the comments for subreddit r/teachers which mention \"high school\"\n",
    "comments_teach_hs = api_test.search_comments(subreddit=subreddit_teach, limit = limit2, before=before, after=after,q=h)"
   ]
  },
  {
   "cell_type": "code",
   "execution_count": 71,
   "id": "e2820869",
   "metadata": {},
   "outputs": [],
   "source": [
    "#Turn comments for r/teachers that mention \"high school\" into a dataframe. \n",
    "comments_teach_hs = pd.DataFrame(comments_teach_hs);"
   ]
  },
  {
   "cell_type": "code",
   "execution_count": 72,
   "id": "014c2ed8",
   "metadata": {},
   "outputs": [
    {
     "data": {
      "text/plain": [
       "(4000, 56)"
      ]
     },
     "execution_count": 72,
     "metadata": {},
     "output_type": "execute_result"
    }
   ],
   "source": [
    "comments_teach_hs.shape"
   ]
  },
  {
   "cell_type": "code",
   "execution_count": 73,
   "id": "ceb0cb89",
   "metadata": {},
   "outputs": [],
   "source": [
    "comments_teach_hs.drop(columns=['author', 'author_created_utc', 'author_flair_css_class',\n",
    "       'author_flair_text', 'author_fullname',  'controversiality',\n",
    "       'created_utc', 'distinguished', 'gilded', 'id', 'link_id', 'nest_level',\n",
    "       'parent_id', 'reply_delay', 'retrieved_on', 'score', 'score_hidden',\n",
    "        'subreddit_id', 'edited', 'stickied', 'can_gild',\n",
    "       'is_submitter', 'permalink', 'subreddit_type', 'gildings',\n",
    "       'updated_utc', 'author_cakeday', 'author_flair_background_color',\n",
    "       'author_flair_richtext', 'author_flair_template_id',\n",
    "       'author_flair_text_color', 'author_flair_type', 'author_patreon_flair',\n",
    "       'collapsed', 'collapsed_reason', 'no_follow', 'send_replies',\n",
    "       'subreddit_name_prefixed', 'all_awardings', 'associated_award',\n",
    "       'author_premium', 'awarders', 'collapsed_because_crowd_control',\n",
    "       'locked', 'total_awards_received', 'treatment_tags'],inplace = True);"
   ]
  },
  {
   "cell_type": "code",
   "execution_count": 74,
   "id": "85f9b299",
   "metadata": {},
   "outputs": [],
   "source": [
    "comments_teach_hs = comments_teach_hs.reindex(columns=[\"subreddit\",\"body\"])"
   ]
  },
  {
   "cell_type": "code",
   "execution_count": 75,
   "id": "28346312",
   "metadata": {},
   "outputs": [],
   "source": [
    "comments_teach_hs['subreddit'] = comments_teach_hs['subreddit'].map(lambda x: \"highschoolteachers\" if x == 'Teachers' else 1)"
   ]
  },
  {
   "cell_type": "code",
   "execution_count": 76,
   "id": "fd7c66b3",
   "metadata": {},
   "outputs": [
    {
     "data": {
      "text/html": [
       "<div>\n",
       "<style scoped>\n",
       "    .dataframe tbody tr th:only-of-type {\n",
       "        vertical-align: middle;\n",
       "    }\n",
       "\n",
       "    .dataframe tbody tr th {\n",
       "        vertical-align: top;\n",
       "    }\n",
       "\n",
       "    .dataframe thead th {\n",
       "        text-align: right;\n",
       "    }\n",
       "</style>\n",
       "<table border=\"1\" class=\"dataframe\">\n",
       "  <thead>\n",
       "    <tr style=\"text-align: right;\">\n",
       "      <th></th>\n",
       "      <th>subreddit</th>\n",
       "      <th>body</th>\n",
       "    </tr>\n",
       "  </thead>\n",
       "  <tbody>\n",
       "    <tr>\n",
       "      <th>0</th>\n",
       "      <td>highschoolteachers</td>\n",
       "      <td>I am a high school science teacher in Florida ...</td>\n",
       "    </tr>\n",
       "    <tr>\n",
       "      <th>1</th>\n",
       "      <td>highschoolteachers</td>\n",
       "      <td>Here's my view. I know it's going to be unpopu...</td>\n",
       "    </tr>\n",
       "    <tr>\n",
       "      <th>2</th>\n",
       "      <td>highschoolteachers</td>\n",
       "      <td>Thanks for the feedback. I understand that a n...</td>\n",
       "    </tr>\n",
       "    <tr>\n",
       "      <th>3</th>\n",
       "      <td>highschoolteachers</td>\n",
       "      <td>When I was in high school there were a bunch o...</td>\n",
       "    </tr>\n",
       "    <tr>\n",
       "      <th>4</th>\n",
       "      <td>highschoolteachers</td>\n",
       "      <td>I just finished my last year of teaching Frenc...</td>\n",
       "    </tr>\n",
       "  </tbody>\n",
       "</table>\n",
       "</div>"
      ],
      "text/plain": [
       "            subreddit                                               body\n",
       "0  highschoolteachers  I am a high school science teacher in Florida ...\n",
       "1  highschoolteachers  Here's my view. I know it's going to be unpopu...\n",
       "2  highschoolteachers  Thanks for the feedback. I understand that a n...\n",
       "3  highschoolteachers  When I was in high school there were a bunch o...\n",
       "4  highschoolteachers  I just finished my last year of teaching Frenc..."
      ]
     },
     "execution_count": 76,
     "metadata": {},
     "output_type": "execute_result"
    }
   ],
   "source": [
    "comments_teach_hs.head()"
   ]
  },
  {
   "cell_type": "code",
   "execution_count": 80,
   "id": "cf4db6af",
   "metadata": {},
   "outputs": [],
   "source": [
    "#Only keep the comments that include the phrase \"high school\" explicitely, just to make sure that the data \n",
    "# has to do with high school. \n",
    "comments_teach_hs_with = comments_teach_hs[comments_teach_hs[\"body\"].str.contains(\"high school\")==True]"
   ]
  },
  {
   "cell_type": "code",
   "execution_count": 78,
   "id": "1ff099eb",
   "metadata": {},
   "outputs": [
    {
     "data": {
      "text/plain": [
       "(3088, 2)"
      ]
     },
     "execution_count": 78,
     "metadata": {},
     "output_type": "execute_result"
    }
   ],
   "source": [
    "comments_teach_hs_with.shape"
   ]
  },
  {
   "cell_type": "code",
   "execution_count": 79,
   "id": "1ee5ffe8",
   "metadata": {},
   "outputs": [],
   "source": [
    "#Export as an excel file \n",
    "comments_teach_hs_with.to_csv('df_hs.csv', header=True, index=False)"
   ]
  }
 ],
 "metadata": {
  "kernelspec": {
   "display_name": "Python 3 (ipykernel)",
   "language": "python",
   "name": "python3"
  },
  "language_info": {
   "codemirror_mode": {
    "name": "ipython",
    "version": 3
   },
   "file_extension": ".py",
   "mimetype": "text/x-python",
   "name": "python",
   "nbconvert_exporter": "python",
   "pygments_lexer": "ipython3",
   "version": "3.9.11"
  }
 },
 "nbformat": 4,
 "nbformat_minor": 5
}
