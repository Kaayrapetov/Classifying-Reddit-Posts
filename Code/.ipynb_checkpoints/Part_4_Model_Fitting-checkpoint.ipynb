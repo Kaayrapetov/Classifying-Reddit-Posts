{
 "cells": [
  {
   "cell_type": "markdown",
   "id": "565aa684",
   "metadata": {},
   "source": [
    "<img src=\"http://imgur.com/1ZcRyrc.png\" style=\"float: left; margin: 20px; height: 55px\" />\n",
    "\n",
    "# Project: NLP Analysis of Reddit Data \n",
    "## Part 1: Importing Data from Reddit\n",
    "\n",
    "Katrin Ayrapetov "
   ]
  },
  {
   "cell_type": "code",
   "execution_count": 77,
   "id": "a3ae0b39",
   "metadata": {},
   "outputs": [],
   "source": [
    "#pip install pmaw \n",
    "import pandas as pd\n",
    "from pmaw import PushshiftAPI\n",
    "import datetime as dt\n",
    "import matplotlib.pyplot as plt\n",
    "import re"
   ]
  },
  {
   "cell_type": "code",
   "execution_count": 78,
   "id": "257e2e70",
   "metadata": {},
   "outputs": [],
   "source": [
    "#Determine the time frame for the Reddit posts\n",
    "before = int(dt.datetime(2022,1,1,20,0).timestamp())\n",
    "after = int(dt.datetime(2010,1,1,20,0).timestamp())\n",
    "# Limit the number of posts \n",
    "\n",
    "#limit2\n",
    "#limit3\n",
    "#Idendity the two subreddits \n",
    "subreddit_elem =\"ElementaryTeachers\"\n",
    "subreddit_ms =\"MiddleSchoolTeacher\"\n",
    "subreddit_hs = \"highschoolteachers\"\n",
    "subreddit_teach = \"Teachers\"\n",
    "\n",
    "#Instatiate an API PushShift \n",
    "api_test = PushshiftAPI()\n",
    "h = \"high school\"\n",
    "m = \"middle school\"\n",
    "e = \"elementary school\""
   ]
  },
  {
   "cell_type": "markdown",
   "id": "6c24d5f1",
   "metadata": {},
   "source": [
    "<font style=\"font-size: 2rem; color: blue\">\n",
    "Obtain data from r/Teachers  comments  related to high school education.  \n",
    "\n",
    "\n",
    "</font>"
   ]
  },
  {
   "cell_type": "code",
   "execution_count": 79,
   "id": "12b78319",
   "metadata": {},
   "outputs": [
    {
     "name": "stderr",
     "output_type": "stream",
     "text": [
      "Not all PushShift shards are active. Query results may be incomplete.\n",
      "Not all PushShift shards are active. Query results may be incomplete.\n",
      "Not all PushShift shards are active. Query results may be incomplete.\n",
      "Not all PushShift shards are active. Query results may be incomplete.\n",
      "Not all PushShift shards are active. Query results may be incomplete.\n",
      "Not all PushShift shards are active. Query results may be incomplete.\n",
      "Not all PushShift shards are active. Query results may be incomplete.\n",
      "Not all PushShift shards are active. Query results may be incomplete.\n",
      "Not all PushShift shards are active. Query results may be incomplete.\n",
      "Not all PushShift shards are active. Query results may be incomplete.\n",
      "Not all PushShift shards are active. Query results may be incomplete.\n",
      "Not all PushShift shards are active. Query results may be incomplete.\n",
      "Not all PushShift shards are active. Query results may be incomplete.\n",
      "Not all PushShift shards are active. Query results may be incomplete.\n",
      "Not all PushShift shards are active. Query results may be incomplete.\n",
      "Not all PushShift shards are active. Query results may be incomplete.\n",
      "Not all PushShift shards are active. Query results may be incomplete.\n",
      "Not all PushShift shards are active. Query results may be incomplete.\n",
      "Not all PushShift shards are active. Query results may be incomplete.\n",
      "Not all PushShift shards are active. Query results may be incomplete.\n"
     ]
    }
   ],
   "source": [
    "#Import the comments for subreddit r/teachers which mention \"high school\"\n",
    "comments_teach_hs = api_test.search_comments(subreddit=subreddit_teach, limit = 20000, before=before, after=after,q=h)"
   ]
  },
  {
   "cell_type": "code",
   "execution_count": 80,
   "id": "5480b98c",
   "metadata": {},
   "outputs": [],
   "source": [
    "#Turn comments for r/teachers that mention \"high school\" into a dataframe. \n",
    "comments_teach_hs = pd.DataFrame(comments_teach_hs);\n",
    "hs_df = comments_teach_hs[[\"body\"]].copy()\n",
    "hs_df[\"level\"] = \"high_school\" \n",
    "hs_df[\"level\"] = hs_df[\"level\"].astype('object')"
   ]
  },
  {
   "cell_type": "code",
   "execution_count": 81,
   "id": "11a25811",
   "metadata": {},
   "outputs": [],
   "source": [
    "hs_df = hs_df[hs_df[\"body\"].str.contains(\"high school\")==True]"
   ]
  },
  {
   "cell_type": "code",
   "execution_count": 82,
   "id": "d0a74e3a",
   "metadata": {},
   "outputs": [
    {
     "data": {
      "text/plain": [
       "(15684, 2)"
      ]
     },
     "execution_count": 82,
     "metadata": {},
     "output_type": "execute_result"
    }
   ],
   "source": [
    "hs_df.shape"
   ]
  },
  {
   "cell_type": "markdown",
   "id": "726789ee",
   "metadata": {},
   "source": [
    "<font style=\"font-size: 2rem; color: blue\">\n",
    "Obtain data from r/Teachers  comments  related to elementary school education.  \n",
    "\n",
    "\n",
    "</font>"
   ]
  },
  {
   "cell_type": "code",
   "execution_count": 83,
   "id": "4383f877",
   "metadata": {},
   "outputs": [
    {
     "name": "stderr",
     "output_type": "stream",
     "text": [
      "Not all PushShift shards are active. Query results may be incomplete.\n",
      "Not all PushShift shards are active. Query results may be incomplete.\n",
      "Not all PushShift shards are active. Query results may be incomplete.\n",
      "Not all PushShift shards are active. Query results may be incomplete.\n",
      "Not all PushShift shards are active. Query results may be incomplete.\n",
      "Not all PushShift shards are active. Query results may be incomplete.\n",
      "Not all PushShift shards are active. Query results may be incomplete.\n",
      "Not all PushShift shards are active. Query results may be incomplete.\n",
      "Not all PushShift shards are active. Query results may be incomplete.\n",
      "Not all PushShift shards are active. Query results may be incomplete.\n",
      "Not all PushShift shards are active. Query results may be incomplete.\n",
      "Not all PushShift shards are active. Query results may be incomplete.\n",
      "Not all PushShift shards are active. Query results may be incomplete.\n",
      "Not all PushShift shards are active. Query results may be incomplete.\n",
      "Not all PushShift shards are active. Query results may be incomplete.\n",
      "Not all PushShift shards are active. Query results may be incomplete.\n",
      "Not all PushShift shards are active. Query results may be incomplete.\n",
      "Not all PushShift shards are active. Query results may be incomplete.\n",
      "Not all PushShift shards are active. Query results may be incomplete.\n"
     ]
    }
   ],
   "source": [
    "#Import the comments for subreddit r/teachers which mention \"high school\"\n",
    "comments_teach_elem = api_test.search_comments(subreddit=subreddit_teach, limit = 80000, before=before, after=after,q=e)"
   ]
  },
  {
   "cell_type": "code",
   "execution_count": 84,
   "id": "2a7004d3",
   "metadata": {},
   "outputs": [],
   "source": [
    "#Turn comments for r/teachers that mention \"elementary school\" into a dataframe. \n",
    "comments_teach_elem = pd.DataFrame(comments_teach_elem);\n",
    "elem_df = comments_teach_elem[[\"body\"]].copy()\n",
    "elem_df[\"level\"] = \"elem_school\" \n",
    "elem_df[\"level\"] = elem_df[\"level\"].astype('object')"
   ]
  },
  {
   "cell_type": "code",
   "execution_count": 85,
   "id": "f47f2393",
   "metadata": {},
   "outputs": [],
   "source": [
    "elem_df = elem_df[elem_df[\"body\"].str.contains(\"elementary school\")==True]"
   ]
  },
  {
   "cell_type": "code",
   "execution_count": 1,
   "id": "36579e68",
   "metadata": {},
   "outputs": [
    {
     "ename": "NameError",
     "evalue": "name 'elem_df' is not defined",
     "output_type": "error",
     "traceback": [
      "\u001b[1;31m---------------------------------------------------------------------------\u001b[0m",
      "\u001b[1;31mNameError\u001b[0m                                 Traceback (most recent call last)",
      "Input \u001b[1;32mIn [1]\u001b[0m, in \u001b[0;36m<cell line: 1>\u001b[1;34m()\u001b[0m\n\u001b[1;32m----> 1\u001b[0m \u001b[43melem_df\u001b[49m\u001b[38;5;241m.\u001b[39mshape\n",
      "\u001b[1;31mNameError\u001b[0m: name 'elem_df' is not defined"
     ]
    }
   ],
   "source": [
    "elem_df.shape"
   ]
  },
  {
   "cell_type": "code",
   "execution_count": 87,
   "id": "f6726b3f",
   "metadata": {},
   "outputs": [],
   "source": [
    "df = pd.concat([hs_df, elem_df], axis=0, ignore_index=True)\n",
    "df.drop_duplicates(keep = \"first\", inplace = True)\n",
    "df.reset_index(drop=\"True\",inplace=True)"
   ]
  },
  {
   "cell_type": "code",
   "execution_count": 88,
   "id": "a29ac164",
   "metadata": {},
   "outputs": [],
   "source": [
    "def lemmatize(string):\n",
    "    '''\n",
    "    returns a lemmatized version of the input string minus english stopwords from nltk\n",
    "    '''\n",
    "    from nltk.stem import WordNetLemmatizer\n",
    "    from nltk.corpus import stopwords\n",
    "    \n",
    "    lem = WordNetLemmatizer()\n",
    "    word_list = [lem.lemmatize(word) for word in string.strip().split(' ') if word not in stopwords.words('english')]\n",
    "    return ' '.join(word_list) "
   ]
  },
  {
   "cell_type": "code",
   "execution_count": 89,
   "id": "c0eaee2b",
   "metadata": {},
   "outputs": [],
   "source": [
    "df['body_lemmatized'] = df['body'].apply(lemmatize)"
   ]
  },
  {
   "cell_type": "code",
   "execution_count": 90,
   "id": "8b154b71",
   "metadata": {},
   "outputs": [
    {
     "data": {
      "text/plain": [
       "1    15663\n",
       "0     8377\n",
       "Name: level, dtype: int64"
      ]
     },
     "execution_count": 90,
     "metadata": {},
     "output_type": "execute_result"
    }
   ],
   "source": [
    "df['level'].replace({'elem_school':0, 'high_school':1}, inplace=True)\n",
    "df['level'].value_counts()"
   ]
  },
  {
   "cell_type": "code",
   "execution_count": 92,
   "id": "a58f2b15",
   "metadata": {},
   "outputs": [],
   "source": [
    "X = df['body_lemmatized']\n",
    "y = df['level']"
   ]
  },
  {
   "cell_type": "code",
   "execution_count": 96,
   "id": "cf2df261",
   "metadata": {},
   "outputs": [],
   "source": [
    "X_train, X_test, y_train, y_test = train_test_split(X, y, random_state=42, stratify=y, test_size=0.3)"
   ]
  },
  {
   "cell_type": "code",
   "execution_count": 95,
   "id": "db0a14e5",
   "metadata": {},
   "outputs": [],
   "source": [
    "\n",
    "from sklearn.feature_extraction.text import CountVectorizer, TfidfVectorizer\n",
    "from sklearn.model_selection import train_test_split, GridSearchCV\n",
    "from sklearn.pipeline import Pipeline\n",
    "from sklearn.linear_model import LogisticRegression\n",
    "from sklearn.metrics import plot_confusion_matrix\n",
    "from sklearn.preprocessing import StandardScaler\n",
    "from sklearn.svm import SVC\n",
    "from sklearn.ensemble import RandomForestClassifier, AdaBoostClassifier, GradientBoostingClassifier, VotingClassifier\n",
    "from sklearn.tree import DecisionTreeClassifier\n",
    "from sklearn.naive_bayes import MultinomialNB"
   ]
  },
  {
   "cell_type": "markdown",
   "id": "ebcc2b02",
   "metadata": {},
   "source": [
    "<font style=\"font-size: 2rem; color: blue\">\n",
    "Logistic Regression with CountVectorizer\n",
    "\n",
    "</font>"
   ]
  },
  {
   "cell_type": "code",
   "execution_count": null,
   "id": "3e62d486",
   "metadata": {},
   "outputs": [],
   "source": [
    "pipe = Pipeline([\n",
    "    ('cvec', CountVectorizer()),\n",
    "    ('model', LogisticRegression())\n",
    "])\n",
    "\n",
    "params = {\n",
    "    'cvec__max_features': [None, 2500, 3000],\n",
    "    'cvec__max_df': [.8, .7, 1.0],\n",
    "    'cvec__stop_words':['english', None],\n",
    "    'model__C' : [1, 0.1, 0.01],\n",
    "    'model__solver': ['liblinear'],\n",
    "    'model__penalty': ['l1', 'l2']\n",
    "}\n",
    "\n",
    "gs = GridSearchCV(pipe, params, cv=3, scoring='accuracy')\n",
    "gs.fit(X_train, y_train)\n",
    "\n",
    "print(f'Best Score: {gs.best_score_}')\n",
    "print(f'Best Parameters:')\n",
    "gs.best_params_"
   ]
  },
  {
   "cell_type": "code",
   "execution_count": null,
   "id": "60b343c9",
   "metadata": {},
   "outputs": [],
   "source": [
    "#Test Score \n",
    "print(f\"This is the Test Score {gs.score(X_test, y_test)}\")\n",
    "#Train Score\n",
    "print(f\"This is the Train Score {gs.score(X_train, y_train)}\")\n"
   ]
  },
  {
   "cell_type": "code",
   "execution_count": null,
   "id": "25706263",
   "metadata": {},
   "outputs": [],
   "source": [
    "preds_logreg = gs.predict(X_test)"
   ]
  },
  {
   "cell_type": "code",
   "execution_count": null,
   "id": "a9f52f12",
   "metadata": {},
   "outputs": [],
   "source": [
    "plot_confusion_matrix(gs, X_test, y_test, display_labels=['Elementary School', 'High School'], cmap='Greens');"
   ]
  },
  {
   "cell_type": "markdown",
   "id": "5bd90b37",
   "metadata": {},
   "source": [
    "<font style=\"font-size: 2rem; color: blue\">\n",
    "Logistic Regression with TF-IDF Vectorizer\n",
    "\n",
    "</font>"
   ]
  },
  {
   "cell_type": "code",
   "execution_count": 110,
   "id": "f5b50ac8",
   "metadata": {},
   "outputs": [
    {
     "name": "stdout",
     "output_type": "stream",
     "text": [
      "Best Score: 0.9348705241671379\n",
      "Best Parameters:\n"
     ]
    },
    {
     "data": {
      "text/plain": [
       "{'model__C': 1,\n",
       " 'model__penalty': 'l1',\n",
       " 'model__solver': 'liblinear',\n",
       " 'tvec__max_df': 1.0,\n",
       " 'tvec__max_features': None,\n",
       " 'tvec__stop_words': 'english'}"
      ]
     },
     "execution_count": 110,
     "metadata": {},
     "output_type": "execute_result"
    }
   ],
   "source": [
    "pipe = Pipeline([\n",
    "    ('tvec', TfidfVectorizer()),\n",
    "    ('model', LogisticRegression())\n",
    "])\n",
    "\n",
    "params = {\n",
    "    'tvec__max_features': [None, 2500, 3000],\n",
    "    'tvec__max_df': [.8, .7, 1.0],\n",
    "    'tvec__stop_words':['english', None],\n",
    "    'model__C' : [1, 0.1, 0.01],\n",
    "    'model__solver': ['liblinear'],\n",
    "    'model__penalty': ['l1', 'l2']\n",
    "}\n",
    "\n",
    "gs = GridSearchCV(pipe, params, cv=3, scoring='accuracy')\n",
    "gs.fit(X_train, y_train)\n",
    "\n",
    "print(f'Best Score: {gs.best_score_}')\n",
    "print(f'Best Parameters:')\n",
    "gs.best_params_"
   ]
  },
  {
   "cell_type": "code",
   "execution_count": 111,
   "id": "70ad392d",
   "metadata": {},
   "outputs": [
    {
     "name": "stdout",
     "output_type": "stream",
     "text": [
      "This is the Test Score for Logistic Regression with TF-IDF 0.9366333887964503\n",
      "This is the Train Score for Logistic Regression with TF-IDF 0.9379605419538863\n"
     ]
    },
    {
     "data": {
      "image/png": "[encoded data removed]",
      "text/plain": [
       "<Figure size 432x288 with 2 Axes>"
      ]
     },
     "metadata": {
      "needs_background": "light"
     },
     "output_type": "display_data"
    }
   ],
   "source": [
    "#Test Score \n",
    "print(f\"This is the Test Score for Logistic Regression with TF-IDF {gs.score(X_test, y_test)}\")\n",
    "#Train Score\n",
    "print(f\"This is the Train Score for Logistic Regression with TF-IDF {gs.score(X_train, y_train)}\")\n",
    "preds_logreg = gs.predict(X_test)\n",
    "plot_confusion_matrix(gs, X_test, y_test, display_labels=['Elementary School', 'High School'], cmap='Greens');"
   ]
  },
  {
   "cell_type": "code",
   "execution_count": null,
   "id": "77812d62",
   "metadata": {},
   "outputs": [],
   "source": [
    "classification_report(y_test,preds_logreg)"
   ]
  },
  {
   "cell_type": "markdown",
   "id": "f6357d63",
   "metadata": {},
   "source": [
    "<font style=\"font-size: 2rem; color: blue\">\n",
    "Support Vector Machine with CountVectorizer\n",
    "\n",
    "</font>"
   ]
  },
  {
   "cell_type": "code",
   "execution_count": 112,
   "id": "91be1985",
   "metadata": {},
   "outputs": [
    {
     "data": {
      "text/plain": [
       "{'cvec__max_df': 1.0,\n",
       " 'cvec__max_features': 3000,\n",
       " 'cvec__stop_words': 'english',\n",
       " 'svm__kernel': 'rbf'}"
      ]
     },
     "execution_count": 112,
     "metadata": {},
     "output_type": "execute_result"
    }
   ],
   "source": [
    "pipe_svm = Pipeline([\n",
    "    ('cvec', CountVectorizer()),\n",
    "    ('svm', SVC())\n",
    "])\n",
    "\n",
    "params_svm = {\n",
    "    'cvec__max_features': [None, 2500, 3000, 3500],\n",
    "    'cvec__max_df': [.8, .7, 1.0],\n",
    "    'cvec__stop_words':['english', None],\n",
    "    'svm__kernel': ['poly', 'rbf', 'sigmoid']\n",
    "}\n",
    "\n",
    "gs_svm = GridSearchCV(pipe_svm, params_svm)\n",
    "gs_svm.fit(X_train, y_train)\n",
    "gs_svm.best_score_\n",
    "gs_svm.best_params_"
   ]
  },
  {
   "cell_type": "code",
   "execution_count": 113,
   "id": "bb40598d",
   "metadata": {},
   "outputs": [
    {
     "name": "stdout",
     "output_type": "stream",
     "text": [
      "This is the Test Score for Logistic Regression with TF-IDF 0.9184692179700499\n",
      "This is the Train Score for Logistic Regression with TF-IDF 0.9695150938911338\n"
     ]
    },
    {
     "data": {
      "image/png": "[encoded data removed]",
      "text/plain": [
       "<Figure size 432x288 with 2 Axes>"
      ]
     },
     "metadata": {
      "needs_background": "light"
     },
     "output_type": "display_data"
    }
   ],
   "source": [
    "#Test Score \n",
    "print(f\"This is the Test Score for Logistic Regression with TF-IDF {gs_svm.score(X_test, y_test)}\")\n",
    "#Train Score\n",
    "print(f\"This is the Train Score for Logistic Regression with TF-IDF {gs_svm.score(X_train, y_train)}\")\n",
    "preds_gs_svm = gs_svm.predict(X_test)\n",
    "plot_confusion_matrix(gs_svm, X_test, y_test, display_labels=['Elementary School', 'High School'], cmap='Greens');"
   ]
  },
  {
   "cell_type": "code",
   "execution_count": 114,
   "id": "03578da9",
   "metadata": {},
   "outputs": [
    {
     "ename": "NameError",
     "evalue": "name 'classification_report' is not defined",
     "output_type": "error",
     "traceback": [
      "\u001b[1;31m---------------------------------------------------------------------------\u001b[0m",
      "\u001b[1;31mNameError\u001b[0m                                 Traceback (most recent call last)",
      "Input \u001b[1;32mIn [114]\u001b[0m, in \u001b[0;36m<cell line: 1>\u001b[1;34m()\u001b[0m\n\u001b[1;32m----> 1\u001b[0m \u001b[43mclassification_report\u001b[49m(y_test,preds_gs_svm)\n",
      "\u001b[1;31mNameError\u001b[0m: name 'classification_report' is not defined"
     ]
    }
   ],
   "source": [
    "classification_report(y_test,preds_gs_svm)"
   ]
  },
  {
   "cell_type": "markdown",
   "id": "5372f885",
   "metadata": {},
   "source": [
    "<font style=\"font-size: 2rem; color: blue\">\n",
    "Support Vector Machine with TF-IDF Vectorizer\n",
    "</font>"
   ]
  },
  {
   "cell_type": "code",
   "execution_count": null,
   "id": "964cba53",
   "metadata": {},
   "outputs": [],
   "source": [
    "pipe_svm_tf = Pipeline([\n",
    "    ('tvec', TfidfVectorizer()),\n",
    "    ('svm', SVC())\n",
    "])\n",
    "\n",
    "params_svm_tf = {\n",
    "    'tvec__max_features': [None, 2500, 3000, 3500],\n",
    "    'tvec__max_df': [.8, .7, 1.0],\n",
    "    'tvec__stop_words':['english', None],\n",
    "    'svm__kernel': ['poly', 'rbf', 'sigmoid']\n",
    "}\n",
    "\n",
    "gs_svm_tf = GridSearchCV(pipe_svm_tf, params_svm_tf)\n",
    "gs_svm_tf.fit(X_train, y_train)"
   ]
  },
  {
   "cell_type": "code",
   "execution_count": null,
   "id": "08c2085f",
   "metadata": {},
   "outputs": [],
   "source": [
    "#Test Score \n",
    "print(f\"This is the Test Score for Logistic Regression with TF-IDF {gs_svm_tf.score(X_test, y_test)}\")\n",
    "#Train Score\n",
    "print(f\"This is the Train Score for Logistic Regression with TF-IDF {gs_svm_tf.score(X_train, y_train)}\")\n",
    "preds_gs_svm_tf = gs_svm_tf.predict(X_test)\n",
    "plot_confusion_matrix(gs_svm_tf, X_test, y_test, display_labels=['Elementary School', 'High School'], cmap='Greens');"
   ]
  },
  {
   "cell_type": "code",
   "execution_count": null,
   "id": "d9a70e21",
   "metadata": {},
   "outputs": [],
   "source": [
    "classification_report(y_test,preds_gs_svm_tf)"
   ]
  },
  {
   "cell_type": "markdown",
   "id": "01647958",
   "metadata": {},
   "source": [
    "<font style=\"font-size: 2rem; color: blue\">\n",
    "Multinomial Naive Bayes\n",
    "</font>\n"
   ]
  },
  {
   "cell_type": "code",
   "execution_count": null,
   "id": "e7aa735d",
   "metadata": {},
   "outputs": [],
   "source": [
    "pipe_mnb = Pipeline([\n",
    "    ('cvec', CountVectorizer()),\n",
    "    ('mnb', MultinomialNB())\n",
    "])\n",
    "\n",
    "params_mnb = {\n",
    "    'cvec__max_features': [None, 2500, 3000, 3500],\n",
    "    'cvec__max_df': [.8, .7, 1.0],\n",
    "    'cvec__stop_words':['english', None],\n",
    "    'mnb__alpha': [0.001, 0.1, 1.0]\n",
    "}\n",
    "\n",
    "gs_mnb = GridSearchCV(pipe_mnb, params_mnb)\n",
    "gs_mnb.fit(X_train, y_train)\n",
    "print(gs_mnb.best_score_)\n",
    "\n",
    "\n"
   ]
  },
  {
   "cell_type": "code",
   "execution_count": null,
   "id": "425ebf67",
   "metadata": {},
   "outputs": [],
   "source": [
    "#Test Score \n",
    "print(f\"This is the Test Score for Logistic Regression with TF-IDF {gs_mnb.score(X_test, y_test)}\")\n",
    "#Train Score\n",
    "print(f\"This is the Train Score for Logistic Regression with TF-IDF {gs_mnb.score(X_train, y_train)}\")\n",
    "plot_confusion_matrix(gs_mnb, X_test, y_test, display_labels=['Elementary School', 'High School'], cmap='Greens');"
   ]
  },
  {
   "cell_type": "code",
   "execution_count": null,
   "id": "02f9b700",
   "metadata": {},
   "outputs": [],
   "source": [
    "preds_gs_mnb = gs_mnb.predict(X_test)"
   ]
  },
  {
   "cell_type": "code",
   "execution_count": null,
   "id": "fb50b098",
   "metadata": {},
   "outputs": [],
   "source": [
    "classification_report(y_test,preds_gs_mnb)"
   ]
  },
  {
   "cell_type": "code",
   "execution_count": null,
   "id": "5d71495e",
   "metadata": {},
   "outputs": [],
   "source": []
  }
 ],
 "metadata": {
  "kernelspec": {
   "display_name": "Python 3 (ipykernel)",
   "language": "python",
   "name": "python3"
  },
  "language_info": {
   "codemirror_mode": {
    "name": "ipython",
    "version": 3
   },
   "file_extension": ".py",
   "mimetype": "text/x-python",
   "name": "python",
   "nbconvert_exporter": "python",
   "pygments_lexer": "ipython3",
   "version": "3.9.11"
  }
 },
 "nbformat": 4,
 "nbformat_minor": 5
}
