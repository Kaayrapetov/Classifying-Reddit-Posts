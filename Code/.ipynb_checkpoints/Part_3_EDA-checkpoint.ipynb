{
 "cells": [
  {
   "cell_type": "markdown",
   "id": "fe3e02fa",
   "metadata": {},
   "source": [
    "<img src=\"http://imgur.com/1ZcRyrc.png\" style=\"float: left; margin: 20px; height: 55px\" />\n",
    "\n",
    "# NLP Analysis of Reddit Data \n",
    "## Part 3: EDA\n",
    "\n",
    "Katrin Ayrapetov "
   ]
  },
  {
   "cell_type": "code",
   "execution_count": 39,
   "id": "7aaa4d0b",
   "metadata": {},
   "outputs": [],
   "source": [
    "import pandas as pd\n",
    "from pmaw import PushshiftAPI\n",
    "import datetime as dt\n",
    "import matplotlib.pyplot as plt\n",
    "from sklearn.model_selection import train_test_split, GridSearchCV\n",
    "from sklearn.pipeline import Pipeline\n",
    "from sklearn.naive_bayes import MultinomialNB\n",
    "from sklearn.linear_model import LogisticRegression\n",
    "from sklearn.metrics import confusion_matrix, plot_confusion_matrix\n",
    "import numpy as np\n",
    "# Import CountVectorizer and TFIDFVectorizer from feature_extraction.text.\n",
    "from sklearn.feature_extraction.text import CountVectorizer, TfidfVectorizer\n",
    "from sklearn.feature_extraction.text import TfidfVectorizer\n",
    "from nltk.corpus import stopwords\n",
    "from nltk.tokenize import RegexpTokenizer\n",
    "from nltk.stem import WordNetLemmatizer\n",
    "\n",
    "from sklearn.feature_extraction.text import CountVectorizer, TfidfVectorizer\n",
    "\n",
    "from sklearn.feature_extraction.text import CountVectorizer, TfidfVectorizer"
   ]
  },
  {
   "cell_type": "code",
   "execution_count": 2,
   "id": "175b66b3",
   "metadata": {},
   "outputs": [],
   "source": [
    "df_clean_elem_ms =  pd.read_csv('df_clean_elem_ms.csv')\n",
    "df_clean_elem_hs =  pd.read_csv('df_clean_elem_hs.csv')"
   ]
  },
  {
   "cell_type": "code",
   "execution_count": 114,
   "id": "69749295",
   "metadata": {},
   "outputs": [],
   "source": [
    "df_elem_clean =  pd.read_csv('df_elem_CLEAN.csv')\n",
    "df_ms_clean =  pd.read_csv('df_ms_CLEAN.csv')\n",
    "df_hs_clean =  pd.read_csv('df_hs_CLEAN.csv')"
   ]
  },
  {
   "cell_type": "code",
   "execution_count": 105,
   "id": "4cf606d0",
   "metadata": {},
   "outputs": [
    {
     "data": {
      "text/html": [
       "<div>\n",
       "<style scoped>\n",
       "    .dataframe tbody tr th:only-of-type {\n",
       "        vertical-align: middle;\n",
       "    }\n",
       "\n",
       "    .dataframe tbody tr th {\n",
       "        vertical-align: top;\n",
       "    }\n",
       "\n",
       "    .dataframe thead th {\n",
       "        text-align: right;\n",
       "    }\n",
       "</style>\n",
       "<table border=\"1\" class=\"dataframe\">\n",
       "  <thead>\n",
       "    <tr style=\"text-align: right;\">\n",
       "      <th></th>\n",
       "      <th>subreddit</th>\n",
       "      <th>body</th>\n",
       "      <th>CLEAN_COMMENT</th>\n",
       "      <th>ADJ_ADV_CLEAN_COMMENT</th>\n",
       "    </tr>\n",
       "  </thead>\n",
       "  <tbody>\n",
       "    <tr>\n",
       "      <th>0</th>\n",
       "      <td>ElementaryTeachers</td>\n",
       "      <td>Representation is important in the classroom. ...</td>\n",
       "      <td>representation important classroom every child...</td>\n",
       "      <td>important least</td>\n",
       "    </tr>\n",
       "    <tr>\n",
       "      <th>1</th>\n",
       "      <td>ElementaryTeachers</td>\n",
       "      <td>anything to keep math from being too dry (and ...</td>\n",
       "      <td>anything keep math dry intimidating student ab...</td>\n",
       "      <td>keep dry much great able different different</td>\n",
       "    </tr>\n",
       "    <tr>\n",
       "      <th>2</th>\n",
       "      <td>ElementaryTeachers</td>\n",
       "      <td>-Sometimes redirection is just the name of the...</td>\n",
       "      <td>sometimes redirection name game honestly say r...</td>\n",
       "      <td>good general copy teacher sure table fun kid y...</td>\n",
       "    </tr>\n",
       "    <tr>\n",
       "      <th>3</th>\n",
       "      <td>ElementaryTeachers</td>\n",
       "      <td>If it feels like it should not be happening, i...</td>\n",
       "      <td>feel like happening probably happening sort be...</td>\n",
       "      <td>arm sort common positive good respectful respo...</td>\n",
       "    </tr>\n",
       "    <tr>\n",
       "      <th>4</th>\n",
       "      <td>ElementaryTeachers</td>\n",
       "      <td>We all die soon. May as well make this life wo...</td>\n",
       "      <td>die soon may well make life worth positive eve...</td>\n",
       "      <td>positive everyday pal positive</td>\n",
       "    </tr>\n",
       "    <tr>\n",
       "      <th>5</th>\n",
       "      <td>ElementaryTeachers</td>\n",
       "      <td>I lack a lot of self confidence I used to have :(</td>\n",
       "      <td>lack lot self confidence used</td>\n",
       "      <td></td>\n",
       "    </tr>\n",
       "    <tr>\n",
       "      <th>6</th>\n",
       "      <td>ElementaryTeachers</td>\n",
       "      <td>This guy needs +1 confidence booster. Command ...</td>\n",
       "      <td>guy need confidence booster command room guy f...</td>\n",
       "      <td>booster</td>\n",
       "    </tr>\n",
       "    <tr>\n",
       "      <th>7</th>\n",
       "      <td>ElementaryTeachers</td>\n",
       "      <td>These are the typical questions that I would a...</td>\n",
       "      <td>typical question would ask something little on...</td>\n",
       "      <td>typical little happy special need little insig...</td>\n",
       "    </tr>\n",
       "    <tr>\n",
       "      <th>8</th>\n",
       "      <td>ElementaryTeachers</td>\n",
       "      <td>First year teaching. Grain of salt, but would ...</td>\n",
       "      <td>first year teaching grain salt would love feed...</td>\n",
       "      <td>first agree disagree pre disagree give non omg...</td>\n",
       "    </tr>\n",
       "    <tr>\n",
       "      <th>9</th>\n",
       "      <td>ElementaryTeachers</td>\n",
       "      <td>Definitely dress professionally, like a teache...</td>\n",
       "      <td>definitely dress professionally like teacher a...</td>\n",
       "      <td>dress teacher happy happy administrator contac...</td>\n",
       "    </tr>\n",
       "  </tbody>\n",
       "</table>\n",
       "</div>"
      ],
      "text/plain": [
       "            subreddit                                               body  \\\n",
       "0  ElementaryTeachers  Representation is important in the classroom. ...   \n",
       "1  ElementaryTeachers  anything to keep math from being too dry (and ...   \n",
       "2  ElementaryTeachers  -Sometimes redirection is just the name of the...   \n",
       "3  ElementaryTeachers  If it feels like it should not be happening, i...   \n",
       "4  ElementaryTeachers  We all die soon. May as well make this life wo...   \n",
       "5  ElementaryTeachers  I lack a lot of self confidence I used to have :(   \n",
       "6  ElementaryTeachers  This guy needs +1 confidence booster. Command ...   \n",
       "7  ElementaryTeachers  These are the typical questions that I would a...   \n",
       "8  ElementaryTeachers  First year teaching. Grain of salt, but would ...   \n",
       "9  ElementaryTeachers  Definitely dress professionally, like a teache...   \n",
       "\n",
       "                                       CLEAN_COMMENT  \\\n",
       "0  representation important classroom every child...   \n",
       "1  anything keep math dry intimidating student ab...   \n",
       "2  sometimes redirection name game honestly say r...   \n",
       "3  feel like happening probably happening sort be...   \n",
       "4  die soon may well make life worth positive eve...   \n",
       "5                      lack lot self confidence used   \n",
       "6  guy need confidence booster command room guy f...   \n",
       "7  typical question would ask something little on...   \n",
       "8  first year teaching grain salt would love feed...   \n",
       "9  definitely dress professionally like teacher a...   \n",
       "\n",
       "                               ADJ_ADV_CLEAN_COMMENT  \n",
       "0                                    important least  \n",
       "1       keep dry much great able different different  \n",
       "2  good general copy teacher sure table fun kid y...  \n",
       "3  arm sort common positive good respectful respo...  \n",
       "4                     positive everyday pal positive  \n",
       "5                                                     \n",
       "6                                            booster  \n",
       "7  typical little happy special need little insig...  \n",
       "8  first agree disagree pre disagree give non omg...  \n",
       "9  dress teacher happy happy administrator contac...  "
      ]
     },
     "execution_count": 105,
     "metadata": {},
     "output_type": "execute_result"
    }
   ],
   "source": [
    "df_elem_clean.head(10)"
   ]
  },
  {
   "cell_type": "code",
   "execution_count": 67,
   "id": "a7166ea2",
   "metadata": {},
   "outputs": [
    {
     "data": {
      "text/plain": [
       "(2425, 4)"
      ]
     },
     "execution_count": 67,
     "metadata": {},
     "output_type": "execute_result"
    }
   ],
   "source": [
    "df_elem_clean.shape"
   ]
  },
  {
   "cell_type": "code",
   "execution_count": 68,
   "id": "a5d1cbca",
   "metadata": {},
   "outputs": [
    {
     "data": {
      "text/plain": [
       "(3081, 4)"
      ]
     },
     "execution_count": 68,
     "metadata": {},
     "output_type": "execute_result"
    }
   ],
   "source": [
    "df_hs_clean.shape"
   ]
  },
  {
   "cell_type": "code",
   "execution_count": 22,
   "id": "d0c10219",
   "metadata": {},
   "outputs": [
    {
     "data": {
      "text/plain": [
       "subreddit                object\n",
       "body                     object\n",
       "CLEAN_COMMENT            object\n",
       "ADJ_ADV_CLEAN_COMMENT    object\n",
       "dtype: object"
      ]
     },
     "execution_count": 22,
     "metadata": {},
     "output_type": "execute_result"
    }
   ],
   "source": [
    "df_elem_clean.dtypes"
   ]
  },
  {
   "cell_type": "code",
   "execution_count": 15,
   "id": "44c7ac29",
   "metadata": {},
   "outputs": [],
   "source": [
    "df_elem_clean['ADJ_ADV_CLEAN_COMMENT'] = df_elem_clean.apply(lambda _: '', axis=1)\n",
    "\n",
    "df_hs_clean['ADJ_ADV_CLEAN_COMMENT'] = df_hs_clean.apply(lambda _: '', axis=1)"
   ]
  },
  {
   "cell_type": "code",
   "execution_count": 23,
   "id": "b0e3c537",
   "metadata": {},
   "outputs": [],
   "source": [
    "#Drop the null values. \n",
    "df_elem_clean.dropna(axis=0, how=\"any\", thresh=None, subset=None, inplace=True)\n",
    "#Reset the index \n",
    "df_elem_clean.reset_index(drop=\"True\",inplace=True)\n",
    "\n",
    "#Drop the null values. \n",
    "df_hs_clean.dropna(axis=0, how=\"any\", thresh=None, subset=None, inplace=True)\n",
    "#Reset the index \n",
    "df_hs_clean.reset_index(drop=\"True\",inplace=True)"
   ]
  },
  {
   "cell_type": "code",
   "execution_count": 57,
   "id": "3510e034",
   "metadata": {},
   "outputs": [],
   "source": [
    "#Create dataframe X that has the adjectives for each data set. \n",
    "X_elem = df_elem_clean['CLEAN_COMMENT']\n",
    "\n",
    "X_hs = df_hs_clean['CLEAN_COMMENT']"
   ]
  },
  {
   "cell_type": "markdown",
   "id": "4efc1d42",
   "metadata": {},
   "source": [
    "<font style=\"font-size: 2rem; color: blue\">\n",
    "EDA of the Elementary School Data \n",
    "   \n",
    "</font>"
   ]
  },
  {
   "cell_type": "code",
   "execution_count": 58,
   "id": "106a6795",
   "metadata": {},
   "outputs": [],
   "source": [
    "X_elem = df_elem_clean['CLEAN_COMMENT']"
   ]
  },
  {
   "cell_type": "code",
   "execution_count": 59,
   "id": "22334b20",
   "metadata": {},
   "outputs": [],
   "source": [
    "cvec_elem = CountVectorizer()"
   ]
  },
  {
   "cell_type": "code",
   "execution_count": 60,
   "id": "726f04ee",
   "metadata": {},
   "outputs": [],
   "source": [
    "X_elem_cvec = cvec_elem.fit_transform(X_elem)"
   ]
  },
  {
   "cell_type": "code",
   "execution_count": 61,
   "id": "63fef886",
   "metadata": {},
   "outputs": [],
   "source": [
    "counts_elem = pd.DataFrame(X_elem_cvec.toarray(), columns = cvec_elem.get_feature_names())"
   ]
  },
  {
   "cell_type": "code",
   "execution_count": 320,
   "id": "099f6eb8",
   "metadata": {},
   "outputs": [
    {
     "data": {
      "image/png": "[encoded data removed]",
      "text/plain": [
       "<Figure size 432x288 with 1 Axes>"
      ]
     },
     "metadata": {
      "needs_background": "light"
     },
     "output_type": "display_data"
    }
   ],
   "source": [
    "counts_elem.sum(axis = 0).sort_values(ascending=False).head(15).plot(kind=\"barh\").set(title='Fifteen Most Frequently Occuring Words \\n in Elementary School Teachers Comments');\n"
   ]
  },
  {
   "cell_type": "markdown",
   "id": "acf830eb",
   "metadata": {},
   "source": [
    "<font style=\"font-size: 2rem; color: blue\">\n",
    "EDA of the High School Data \n",
    "   \n",
    "</font>"
   ]
  },
  {
   "cell_type": "code",
   "execution_count": 63,
   "id": "1f7063cf",
   "metadata": {},
   "outputs": [],
   "source": [
    "cvec_hs = CountVectorizer()"
   ]
  },
  {
   "cell_type": "code",
   "execution_count": 64,
   "id": "7983e81f",
   "metadata": {},
   "outputs": [],
   "source": [
    "X_hs_cvec = cvec_hs.fit_transform(X_hs)"
   ]
  },
  {
   "cell_type": "code",
   "execution_count": 65,
   "id": "ced6c809",
   "metadata": {},
   "outputs": [],
   "source": [
    "counts_hs = pd.DataFrame(X_hs_cvec.toarray(), columns = cvec_hs.get_feature_names())"
   ]
  },
  {
   "cell_type": "code",
   "execution_count": 321,
   "id": "2f66e41d",
   "metadata": {},
   "outputs": [
    {
     "data": {
      "image/png": "[encoded data removed]",
      "text/plain": [
       "<Figure size 432x288 with 1 Axes>"
      ]
     },
     "metadata": {
      "needs_background": "light"
     },
     "output_type": "display_data"
    }
   ],
   "source": [
    "counts_hs.sum(axis = 0).sort_values(ascending=False).head(15).plot(kind=\"barh\").set(title='Fifteen Most Frequently Occuring Words \\n in High School Teachers Comments');"
   ]
  },
  {
   "cell_type": "code",
   "execution_count": null,
   "id": "06317f66",
   "metadata": {},
   "outputs": [],
   "source": []
  }
 ],
 "metadata": {
  "kernelspec": {
   "display_name": "Python 3 (ipykernel)",
   "language": "python",
   "name": "python3"
  },
  "language_info": {
   "codemirror_mode": {
    "name": "ipython",
    "version": 3
   },
   "file_extension": ".py",
   "mimetype": "text/x-python",
   "name": "python",
   "nbconvert_exporter": "python",
   "pygments_lexer": "ipython3",
   "version": "3.9.11"
  }
 },
 "nbformat": 4,
 "nbformat_minor": 5
}
